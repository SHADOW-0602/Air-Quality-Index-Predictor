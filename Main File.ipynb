import numpy as np
import pandas as pd
import matplotlib.pyplot as plt
import seaborn as sns
from sklearn.model_selection import train_test_split,cross_val_score
from sklearn.linear_model import LinearRegression
from sklearn.preprocessing import StandardScaler
from sklearn.pipeline import Pipeline
from sklearn.metrics import mean_squared_error, r2_score

# Load the data from CSV file
try:
    df = pd.read_csv('AQI_Data.csv')
except FileNotFoundError:
    print("Error: 'AQI_Data.csv' was not found. Please check the file path.")
    raise

#Check for missing values and handle them
if df.isnull().sum().sum()>0:
    df=df.dropna()

#Plot the coorelation matrix
plt.figure(figsize=(10,8))
sns.heatmap(df.corr(),annot=True,cmap='coolwarm')
plt.title('Correlation Matrix')
plt.show()    

#List of feature columns
feature_columns=['T','TM','Tm','SLP','H','VV','V','VM']
target_column='PM 2.5'

#Sanity Check
if target_column in feature_columns:
    feature_columns.remove(target_column)

X=df[feature_columns]
y=df[target_column]

#Split data into training and testing sets
X_train,X_test,y_train,y_test=train_test_split(X,y,test_size=0.2,random_state=42)

#Create a pipeline
pipeline=Pipeline([
    ('scaler',StandardScaler()),
    ('lr',LinearRegression())
])

#Train the model
pipeline.fit(X_train,y_train)
y_pred=pipeline.predict(X_test)

#Evaluate the model
mse=mean_squared_error(y_test,y_pred)
r2=r2_score(y_test,y_pred)

print(f'\nMean Squared Error: {mse:.2f}')
print(f'R2 Score: {r2:.2f}')

#Perform cross validation
cv_scores=cross_val_score(pipeline,X,y,cv=5,scoring='r2')
print("Cross-Validation R2 Scores: ",cv_scores)
print("Average 5-Fold CV R2 Score: ",np.mean(cv_scores))

def center_axes(ax):
    ax.spines['left'].set_position(('data',0))
    ax.spines['bottom'].set_position(('data',0))

    ax.spines['right'].set_color('none')
    ax.spines['top'].set_color('none')

    ax.plot(1,0,">k",transform=ax.get_yaxis_transform(),clip_on=False)
    ax.plot(0,1,"^k",transform=ax.get_xaxis_transform(),clip_on=False)

    #Get current ticks and remove tick labels equal to zero
    xticks=ax.get_xticks()
    ax.set_xticks(xticks)
    xlabels=[f'{tick:g}' if not np.isclose(tick,0) else '' for tick in xticks]
    ax.set_xticklabels(xlabels)

    yticks=ax.get_yticks()
    ax.set_yticks(yticks)
    ylabels=[f'{tick:g}' if not np.isclose(tick,0) else '' for tick in yticks]
    ax.set_yticklabels(ylabels)

    ax.text(-8,-12,'0',ha='center',va='center',fontsize=11,color='black')


fig,ax=plt.subplots(figsize=(10,8))
ax.scatter(y_test,y_pred,alpha=0.7,color='g')

min_val=min(y_test.min(),y_pred.min(),0)
max_val=max(y_test.max(),y_pred.max(),0)
ax.plot([min_val,max_val], [min_val,max_val],'r--',lw=2)

center_axes(ax)
    
ax.set_xlabel('Actual AQI')
ax.set_ylabel('Predicted AQI')
ax.set_title('Actual vs Predicted AQI')
plt.show()

residuals= y_test -y_pred

fig,ax=plt.subplots(figsize=(8,6))
ax.scatter(y_test,residuals,alpha=0.7,color='b')
ax.axhline(0,color='r',linestyle='dashed',lw=2)

center_axes(ax)

ax.set_xlabel('Actual AQI')
ax.set_ylabel('Residuals')
ax.set_title('Residual Plot')
plt.show()
